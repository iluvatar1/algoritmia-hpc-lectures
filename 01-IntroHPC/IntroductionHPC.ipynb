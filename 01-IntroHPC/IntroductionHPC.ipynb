{
 "cells": [
  {
   "cell_type": "markdown",
   "id": "7962c143",
   "metadata": {
    "slideshow": {
     "slide_type": "slide"
    }
   },
   "source": [
    "# Introduction to HPC\n",
    "\n",
    "- Increasing transistor density / [Moore's law](https://en.wikipedia.org/wiki/Moore%27s_law?useskin=vector)  stopped\n",
    "<div style=\"text-align: center;\">\n",
    "    <img src=\"https://upload.wikimedia.org/wikipedia/commons/0/00/Moore%27s_Law_Transistor_Count_1970-2020.png\" alt=\"Image Description\" width=\"600\">\n",
    "</div>"
   ]
  },
  {
   "cell_type": "markdown",
   "id": "d4afa041",
   "metadata": {
    "slideshow": {
     "slide_type": "subslide"
    }
   },
   "source": [
    "- Multicore systems are now the norm (figre from https://superuser.com/questions/584900/how-distinguish-between-multicore-and-multiprocessor-systems)\n",
    "<div style=\"text-align: center;\">\n",
    "    <img src=\"https://i.stack.imgur.com/fRJgk.png\" alt=\"Image Description\" width=\"600\">\n",
    "</div>"
   ]
  },
  {
   "cell_type": "markdown",
   "id": "30382154",
   "metadata": {
    "slideshow": {
     "slide_type": "subslide"
    }
   },
   "source": [
    "- [Performance per watt](https://en.wikipedia.org/wiki/Performance_per_watt?useskin=vector) is more essential\n",
    "<table>\n",
    "    <tr>\n",
    "        <td>\n",
    "        <div style=\"text-align: center;\">\n",
    "        <img src=\"https://www.apple.com/newsroom/images/product/mac/standard/Apple-M1-Ultra-cpu-performance-02_big_carousel.jpg.large_2x.jpg\" alt=\"Image Description\" width=\"400\">\n",
    "        </div>\n",
    "        </td>\n",
    "        <td>\n",
    "        <div style=\"text-align: center;\">\n",
    "        <img src=\"https://i.extremetech.com/imagery/content-types/07CyoCCWMzGjurj8zpuiYO4/images-2.jpg\" alt=\"Image Description\" width=\"400\">\n",
    "        </div>\n",
    "        </td>\n",
    "    </tr>\n",
    "</table>\n",
    "From https://www.extremetech.com/extreme/328541-the-apple-m1-pro-and-m1-maxs-power-efficiency-should-rattle-intel-amd"
   ]
  },
  {
   "cell_type": "markdown",
   "id": "0fd44ae2-d551-444a-9bb5-e11df0cbf12a",
   "metadata": {
    "slideshow": {
     "slide_type": "subslide"
    }
   },
   "source": [
    "- Problem size/complexity has been increasing, requiring distributed computing\n",
    "<div style=\"text-align: center;\">\n",
    "<table>\n",
    "  <tr>\n",
    "      <td>\n",
    "        <div style=\"text-align: center;\">\n",
    "        <img src=\"https://www.paraview.org/wp-content/uploads/2022/10/energy-exascale-earth-system-model-global-climate-model-data.jpg\" alt=\"Image Description\" width=\"400\">\n",
    "        </div>\n",
    "      </td>\n",
    "    <td>\n",
    "        <div style=\"text-align: center;\">\n",
    "        <img src=\"https://www.paraview.org/wp-content/uploads/2022/10/full_harmonic_tremor.jpg\" alt=\"Image Description\" width=\"400\">\n",
    "        </div>\n",
    "    </td>\n",
    "  </tr>\n",
    "  <tr>\n",
    "      <td>\n",
    "        <div style=\"text-align: center;\">\n",
    "        <img src=\"https://www.paraview.org/wp-content/uploads/2022/10/ParaView-NVIDIA-1.jpg\" alt=\"Image Description\" width=\"400\">\n",
    "        </div>\n",
    "      </td>\n",
    "    <td>\n",
    "        <div style=\"text-align: center;\">\n",
    "        <img src=\"https://www.paraview.org/wp-content/uploads/2022/11/full_temporal_plane_jet_DNS_simulation.png.jpg\" alt=\"Image Description\" width=\"400\">\n",
    "        </div>\n",
    "    </td>\n",
    "  </tr>\n",
    "</table>\n",
    "</div>\n",
    "\n",
    "  "
   ]
  },
  {
   "cell_type": "markdown",
   "id": "f6c1db27",
   "metadata": {
    "slideshow": {
     "slide_type": "slide"
    }
   },
   "source": [
    "# Need for distributed computing\n",
    "<div style=\"text-align: center;\">\n",
    "    <img src=\"https://upload.wikimedia.org/wikipedia/commons/thumb/e/e0/Frontier_Supercomputer_%282%29.jpg/440px-Frontier_Supercomputer_%282%29.jpg\" alt=\"Image Description\" width=\"600\">\n",
    "</div>\n",
    "\n",
    "[Frontier exascale computer](https://en.wikipedia.org/wiki/Frontier_%28supercomputer%29?useskin=vector)\n",
    "\n",
    "[More info about frontier](https://www.ornl.gov/news/frontier-supercomputer-debuts-worlds-fastest-breaking-exascale-barrier)\n",
    "\n",
    "[NASA](https://www.nas.nasa.gov/hecc/resources/pleiades.html)\n",
    "[Beowulf](https://en.wikipedia.org/wiki/Beowulf_cluster?useskin=vector)\n",
    "\n"
   ]
  },
  {
   "cell_type": "markdown",
   "id": "2a1b5850",
   "metadata": {
    "slideshow": {
     "slide_type": "subslide"
    }
   },
   "source": [
    "## Shared memory\n",
    "<div style=\"text-align: center;\">\n",
    "    <img src=\"https://upload.wikimedia.org/wikipedia/commons/thumb/f/f2/Shared_memory.svg/600px-Shared_memory.svg.png\" alt=\"Image Description\" width=\"600\">\n",
    "</div>\n",
    "\n",
    "- Threads\n",
    "- Shared and private variables\n",
    "- Numa, uma , etc\n",
    "- [OpenMP](https://www.openmp.org/)"
   ]
  },
  {
   "cell_type": "markdown",
   "id": "b11f3b37",
   "metadata": {
    "slideshow": {
     "slide_type": "subslide"
    }
   },
   "source": [
    "### Threads: Fork-join paradigm\n",
    "<div style=\"text-align: center;\">\n",
    "    <img src=\"https://upload.wikimedia.org/wikipedia/commons/f/f1/Fork_join.svg\" alt=\"Image Description\" width=\"800\">\n",
    "</div>\n"
   ]
  },
  {
   "cell_type": "markdown",
   "id": "5d684bd8",
   "metadata": {
    "slideshow": {
     "slide_type": "subslide"
    }
   },
   "source": [
    "## Distributed memory\n",
    "<div style=\"text-align: center;\">\n",
    "    <img src=\"https://upload.wikimedia.org/wikipedia/commons/thumb/6/6a/Distributed_Memory.jpeg/600px-Distributed_Memory.jpeg\" alt=\"Image Description\" width=\"600\">\n",
    "</div>\n",
    "\n",
    "- Processes\n",
    "- Private variables \n",
    "- Highly scalable\n",
    "- Communication: [MPI](https://en.wikipedia.org/wiki/Message_Passing_Interface?useskin=vector)"
   ]
  },
  {
   "cell_type": "markdown",
   "id": "f1e50b8a",
   "metadata": {
    "slideshow": {
     "slide_type": "subslide"
    }
   },
   "source": [
    "<div style=\"text-align: center;\">\n",
    "    <img src=\"https://hpc-tutorials.llnl.gov/mpi/images/distributed_mem.gif\" alt=\"Image Description\" width=\"600\">\n",
    "</div>"
   ]
  },
  {
   "cell_type": "markdown",
   "id": "c53632e3",
   "metadata": {
    "slideshow": {
     "slide_type": "subslide"
    }
   },
   "source": [
    "## GPU programming\n",
    "\n",
    "<div style=\"text-align: center;\">\n",
    "    <img src=\"https://docs.nvidia.com/cuda/cuda-c-programming-guide/_images/gpu-devotes-more-transistors-to-data-processing.png\" alt=\"Image Description\" width=\"800\">\n",
    "</div>\n",
    "\n",
    "- https://en.wikipedia.org/wiki/General-purpose_computing_on_graphics_processing_units?useskin=vector\n",
    "- https://en.wikipedia.org/wiki/CUDA\n",
    "- https://en.wikipedia.org/wiki/OpenACC"
   ]
  },
  {
   "cell_type": "markdown",
   "id": "7fef771e",
   "metadata": {
    "slideshow": {
     "slide_type": "fragment"
    }
   },
   "source": [
    "## The cloud\n",
    "- Cluster by demand\n",
    "- \"Reduced\" costs\n",
    "- \"No training\"\n",
    "- https://cloud.google.com/blog/products/gcp/easy-hpc-clusters-on-gcp-with-slurm\n",
    "<div style=\"text-align: center;\">\n",
    "    <img src=\"https://i.ytimg.com/vi/n24OBVGHufQ/maxresdefault.jpg\" alt=\"Image Description\" width=\"800\">\n",
    "</div>"
   ]
  },
  {
   "cell_type": "markdown",
   "id": "81a5aaf9",
   "metadata": {
    "slideshow": {
     "slide_type": "slide"
    }
   },
   "source": [
    "## Practical exercise: knowing your computer\n",
    "- How many cores?"
   ]
  },
  {
   "cell_type": "code",
   "execution_count": null,
   "id": "13f81bbf",
   "metadata": {
    "slideshow": {
     "slide_type": "fragment"
    }
   },
   "outputs": [],
   "source": []
  },
  {
   "cell_type": "markdown",
   "id": "ee84b26c",
   "metadata": {
    "slideshow": {
     "slide_type": "subslide"
    }
   },
   "source": [
    "- How much memory?"
   ]
  },
  {
   "cell_type": "code",
   "execution_count": null,
   "id": "5dc70b10",
   "metadata": {
    "slideshow": {
     "slide_type": "fragment"
    }
   },
   "outputs": [],
   "source": []
  },
  {
   "cell_type": "markdown",
   "id": "e598fb5b",
   "metadata": {
    "slideshow": {
     "slide_type": "subslide"
    }
   },
   "source": [
    "- Network card speed?"
   ]
  },
  {
   "cell_type": "code",
   "execution_count": null,
   "id": "883190b6",
   "metadata": {
    "slideshow": {
     "slide_type": "fragment"
    }
   },
   "outputs": [],
   "source": []
  },
  {
   "cell_type": "markdown",
   "id": "8b6258fb",
   "metadata": {
    "slideshow": {
     "slide_type": "subslide"
    }
   },
   "source": [
    "- CPU hungry process at the moment?"
   ]
  },
  {
   "cell_type": "code",
   "execution_count": null,
   "id": "d4f36634",
   "metadata": {
    "slideshow": {
     "slide_type": "fragment"
    }
   },
   "outputs": [],
   "source": []
  },
  {
   "cell_type": "markdown",
   "id": "8abd128b",
   "metadata": {
    "slideshow": {
     "slide_type": "slide"
    }
   },
   "source": [
    "# A real cluster example\n",
    "- System partitioned according to compute capabilities\n",
    "- A resource/workload manager (like [slurm](https://slurm.schedmd.com/documentation.html))\n",
    "- High speed interconnect (for speeding-up communications)\n",
    "- A file system shared across nodes\n",
    "- Nodes with fair core number and RAM memory, maybe CPU.\n",
    "- Packaging, Imaging, Monitoring systems\n",
    "\n",
    "<table>\n",
    "  <tr>\n",
    "    <td>\n",
    "        <div style=\"text-align: center;\">\n",
    "    <img src=\"https://upload.wikimedia.org/wikipedia/commons/d/d3/IBM_Blue_Gene_P_supercomputer.jpg\" alt=\"Image Description\" width=\"400\">\n",
    "</div>\n",
    "    </td>\n",
    "    <td>\n",
    "    <div style=\"text-align: center;\">\n",
    "    <img src=\"https://www.hpc2n.umu.se/sites/default/files/Documentation/Guides/cluster.png\" alt=\"Image Description\" width=\"600\">\n",
    "    </div>  \n",
    "    </td>\n",
    "  </tr>\n",
    "</table>\n",
    "\n"
   ]
  },
  {
   "cell_type": "markdown",
   "id": "6c74e8a5",
   "metadata": {
    "slideshow": {
     "slide_type": "subslide"
    }
   },
   "source": [
    "## Example: Goethe Universitat Cluster\n",
    "https://csc.uni-frankfurt.de/wiki/doku.php?id=public:start\n",
    "\n",
    "Cheatsheet: https://www.hkhlr.de/sites/default/files/field_download_file/hkhlr_quick_reference-goethe-hlr.pdf\n",
    "\n",
    "- What is a partition?\n",
    "- How is the connection handled?\n",
    "- Are the nodes similar to your computer?\n",
    "- How are packages managed?\n",
    "- How to get the partitions info? "
   ]
  },
  {
   "cell_type": "markdown",
   "id": "13dac4e8",
   "metadata": {
    "slideshow": {
     "slide_type": "subslide"
    }
   },
   "source": [
    "## Another example: Leftraru (Chile)\n",
    "- https://dashboard.nlhpc.cl/\n",
    "- https://www.nlhpc.cl/infraestructura/"
   ]
  },
  {
   "cell_type": "markdown",
   "id": "3601b861",
   "metadata": {
    "slideshow": {
     "slide_type": "subslide"
    }
   },
   "source": [
    "## Our local \"cluster\"\n",
    "Physics department computer room: https://iluvatar1.github.io/salafis/\n",
    "\n",
    "Check the status at: https://salafis.loca.lt/ganglia/\n",
    "\n",
    "Please login into the login node and answer the following questions using `sinfo`:\n",
    "- How many partitions?\n",
    "- How many nodes in total?\n",
    "- Are all the nodes equal?\n",
    "- How many nodes with GPU\n",
    "- How much memory?\n",
    "- Default partition?\n"
   ]
  },
  {
   "cell_type": "markdown",
   "id": "f0c1fe1f",
   "metadata": {
    "ExecuteTime": {
     "end_time": "2023-06-11T23:07:45.323041Z",
     "start_time": "2023-06-11T23:07:45.319038Z"
    },
    "slideshow": {
     "slide_type": "subslide"
    }
   },
   "source": [
    "To get the partitions info, we could run \n",
    "```bash\n",
    "sinfo --all\n",
    "```\n",
    "In our case we will get something like\n",
    "```bash\n",
    "PARTITION  AVAIL  TIMELIMIT  NODES  STATE NODELIST\n",
    "4threads      up   infinite      5   idle sala[16-20]\n",
    "6threads      up   infinite      3   idle sala[13-15]\n",
    "8threads      up   infinite      2   idle sala[11-12]\n",
    "12threads*    up   infinite      4   idle sala[7-10]\n",
    "16threads     up   infinite      2  drain sala[4,6]\n",
    "16threads     up   infinite      3   idle sala[2-3,5]\n",
    "GPU           up   infinite      1   idle sala2\n",
    "\n",
    "```\n",
    "\n",
    "How many CPU are in the 16threads partion? (use `scontrol show partition ...`)\n"
   ]
  },
  {
   "cell_type": "code",
   "execution_count": 11,
   "id": "8e1c2a00",
   "metadata": {
    "ExecuteTime": {
     "end_time": "2023-06-11T23:24:13.419093Z",
     "start_time": "2023-06-11T23:24:13.413376Z"
    },
    "slideshow": {
     "slide_type": "fragment"
    }
   },
   "outputs": [],
   "source": [
    "# Put command here"
   ]
  },
  {
   "cell_type": "markdown",
   "id": "99d4234a",
   "metadata": {
    "slideshow": {
     "slide_type": "subslide"
    }
   },
   "source": [
    "Now let's create a simple job, both interactively and also using batch jobs. Run each of the following jobs and analyze the output\n",
    "```bash\n",
    "srun hostname\n",
    "srun -n 12 hostname\n",
    "```"
   ]
  },
  {
   "cell_type": "markdown",
   "id": "84d6d146",
   "metadata": {
    "slideshow": {
     "slide_type": "fragment"
    }
   },
   "source": [
    "Why is this using two nodes?\n",
    "```bash\n",
    "srun -n 13 hostname\n",
    "sala7.salafis.net\n",
    "sala8.salafis.net\n",
    "sala7.salafis.net\n",
    "sala8.salafis.net\n",
    "sala8.salafis.net\n",
    "sala7.salafis.net\n",
    "sala8.salafis.net\n",
    "```"
   ]
  },
  {
   "cell_type": "markdown",
   "id": "6ef9bd2d",
   "metadata": {
    "slideshow": {
     "slide_type": "subslide"
    }
   },
   "source": [
    "Now let's run a more complex example where we will be stressing the cpu with the `stress` command\n",
    "```bash\n",
    "srun -p 12threads -n 1  stress -t 10 -c 1 # 1 process 1 thread\n",
    "srun -p 12threads -n 1  stress -t 10 -c 12 # 1 process 12 threads\n",
    "srun -p 12threads -n 2  stress -t 10 -c 12 # 2 process 12 threads\n",
    "```"
   ]
  },
  {
   "cell_type": "code",
   "execution_count": null,
   "id": "9af1e1a6",
   "metadata": {
    "slideshow": {
     "slide_type": "fragment"
    }
   },
   "outputs": [],
   "source": []
  },
  {
   "cell_type": "markdown",
   "id": "c5ec8f5b",
   "metadata": {
    "slideshow": {
     "slide_type": "subslide"
    }
   },
   "source": [
    "Finally, let's run the previous command using `sbatch`. To do so, we need to create a script with the appropriate settings. To easy the task, please use a script builder like\n",
    "- https://wiki.nlhpc.cl/Generador_Scripts\n",
    "- https://hpc.nmsu.edu/home/tools/slurm-script-generator/\n",
    "- https://user.cscs.ch/access/running/jobscript_generator/\n",
    "\n",
    "Example:\n",
    "```bash\n",
    "#!/bin/bash\n",
    "#SBATCH --job-name=\"JOBNAME\"\n",
    "#SBATCH --mail-type=ALL\n",
    "#SBATCH --mail-user=wfoquendop@unal.edu.co\n",
    "#SBATCH --time=01:00:00\n",
    "#SBATCH --nodes=?????\n",
    "#SBATCH --ntasks-per-node=?????\n",
    "#SBATCH --cpus-per-task=??????\n",
    "#SBATCH --partition=12threads\n",
    "#SBATCH -o job_%j.out\n",
    "#SBATCH -e job_%j.err\n",
    "\n",
    "export OMP_NUM_THREADS=$SLURM_CPUS_PER_TASK\n",
    "\n",
    "srun hostname\n",
    "```"
   ]
  },
  {
   "cell_type": "markdown",
   "id": "002b666d",
   "metadata": {
    "slideshow": {
     "slide_type": "subslide"
    }
   },
   "source": [
    "Now send it to the workload manager\n",
    "```bash\n",
    "sbatch job.sh\n",
    "```\n",
    "check the queue\n",
    "```bash\n",
    "squeue\n",
    "```\n",
    "and finally check the output on the files `job_XXX.out` and `.err`"
   ]
  },
  {
   "cell_type": "code",
   "execution_count": null,
   "id": "57c5be05",
   "metadata": {
    "slideshow": {
     "slide_type": "fragment"
    }
   },
   "outputs": [],
   "source": []
  },
  {
   "cell_type": "markdown",
   "id": "4177dc1e",
   "metadata": {
    "slideshow": {
     "slide_type": "subslide"
    }
   },
   "source": [
    "Create a job array where a single job submits multiple tasks, each working on different input files or with different parameters. Modify your job script to handle different task indices and perform different computations. Monitor the job array using `squeue` or `sacct` command."
   ]
  },
  {
   "cell_type": "code",
   "execution_count": 12,
   "id": "0ac5878f",
   "metadata": {
    "ExecuteTime": {
     "end_time": "2023-06-11T23:38:52.833866Z",
     "start_time": "2023-06-11T23:38:52.828652Z"
    },
    "slideshow": {
     "slide_type": "fragment"
    }
   },
   "outputs": [
    {
     "name": "stdout",
     "output_type": "stream",
     "text": [
      "Writing array.sh\n"
     ]
    }
   ],
   "source": [
    "%%writefile array.sh\n",
    "#!/bin/bash\n",
    "#SBATCH --job-name=my_job_array\n",
    "#SBATCH --output=output_%A_%a.txt\n",
    "#SBATCH --array=1-5\n",
    "\n",
    "echo \"This is task ${SLURM_ARRAY_TASK_ID}\"\n",
    "# Add your task-specific commands here\n"
   ]
  },
  {
   "cell_type": "markdown",
   "id": "1caf47bf",
   "metadata": {
    "slideshow": {
     "slide_type": "subslide"
    }
   },
   "source": [
    "Submit two jobs where the second job depends on the completion of the first job. Use the job dependency options (`--dependency`) provided by `SLURM` to ensure proper job sequencing. Verify that the second job starts only after the successful completion of the first job."
   ]
  },
  {
   "cell_type": "code",
   "execution_count": 14,
   "id": "6f2d472e",
   "metadata": {
    "ExecuteTime": {
     "end_time": "2023-06-11T23:40:47.840673Z",
     "start_time": "2023-06-11T23:40:47.837883Z"
    },
    "slideshow": {
     "slide_type": "fragment"
    }
   },
   "outputs": [
    {
     "name": "stdout",
     "output_type": "stream",
     "text": [
      "Writing job1.sh\n"
     ]
    }
   ],
   "source": [
    "%%writefile job1.sh\n",
    "#!/bin/bash\n",
    "#SBATCH --job-name=job1\n",
    "#SBATCH --output=job1_output.txt\n",
    "\n",
    "echo \"This is job 1\"\n",
    "sleep 10s\n"
   ]
  },
  {
   "cell_type": "code",
   "execution_count": 15,
   "id": "f8e1d914",
   "metadata": {
    "ExecuteTime": {
     "end_time": "2023-06-11T23:41:23.759912Z",
     "start_time": "2023-06-11T23:41:23.752517Z"
    },
    "slideshow": {
     "slide_type": "subslide"
    }
   },
   "outputs": [
    {
     "name": "stdout",
     "output_type": "stream",
     "text": [
      "Writing job2.sh\n"
     ]
    }
   ],
   "source": [
    "%%writefile job2.sh\n",
    "#!/bin/bash\n",
    "#SBATCH --job-name=job2\n",
    "#SBATCH --output=job2_output.txt\n",
    "#SBATCH --dependency=afterok:<job1_id> # TODO\n",
    "\n",
    "echo \"This is job 2, depending on job 1\"\n",
    "sleep 5s\n"
   ]
  },
  {
   "cell_type": "code",
   "execution_count": null,
   "id": "ebebe667",
   "metadata": {
    "slideshow": {
     "slide_type": "subslide"
    }
   },
   "outputs": [],
   "source": []
  },
  {
   "cell_type": "markdown",
   "id": "cbfa447c",
   "metadata": {
    "slideshow": {
     "slide_type": "slide"
    }
   },
   "source": [
    "# Parallel metrics\n",
    "[Amhdals law](https://en.wikipedia.org/wiki/Amdahl%27s_law?useskin=vector) (fixed problem size)\n",
    "<div style=\"text-align: center;\">\n",
    "    <img src=\"https://upload.wikimedia.org/wikipedia/commons/thumb/e/ea/AmdahlsLaw.svg/2560px-AmdahlsLaw.svg.png\" alt=\"Image Description\" width=\"800\">\n",
    "</div>"
   ]
  },
  {
   "cell_type": "markdown",
   "id": "08e518a8",
   "metadata": {
    "slideshow": {
     "slide_type": "subslide"
    }
   },
   "source": [
    "## Basic  and important metrics\n",
    "- Parallel speedup:\n",
    "$$S(n, s) = \\frac{T(n, s)}{T(1, s)}.$$\n",
    "  Ideally, $S(n , s) = n$.\n",
    "- Parallel efficiency:\n",
    "$$E(n, s) = \\frac{S(n, s)}{n}.$$\n",
    "  Ideally, $E(n,s) = 1$\n",
    "If you are going to buy some computer time, estimate the $n$ such us $E(s, n) \\ge 70\\%$\n",
    "\n",
    "Take into account Amhdals law, parallel metrics, and communication time (for distributed memory)"
   ]
  },
  {
   "cell_type": "code",
   "execution_count": null,
   "id": "4c21c412",
   "metadata": {},
   "outputs": [],
   "source": []
  }
 ],
 "metadata": {
  "celltoolbar": "Slideshow",
  "kernelspec": {
   "display_name": "Python 3 (ipykernel)",
   "language": "python",
   "name": "python3"
  },
  "language_info": {
   "codemirror_mode": {
    "name": "ipython",
    "version": 3
   },
   "file_extension": ".py",
   "mimetype": "text/x-python",
   "name": "python",
   "nbconvert_exporter": "python",
   "pygments_lexer": "ipython3",
   "version": "3.11.4"
  },
  "toc": {
   "base_numbering": 1,
   "nav_menu": {},
   "number_sections": true,
   "sideBar": true,
   "skip_h1_title": false,
   "title_cell": "Table of Contents",
   "title_sidebar": "Contents",
   "toc_cell": false,
   "toc_position": {},
   "toc_section_display": true,
   "toc_window_display": false
  },
  "varInspector": {
   "cols": {
    "lenName": 16,
    "lenType": 16,
    "lenVar": 40
   },
   "kernels_config": {
    "python": {
     "delete_cmd_postfix": "",
     "delete_cmd_prefix": "del ",
     "library": "var_list.py",
     "varRefreshCmd": "print(var_dic_list())"
    },
    "r": {
     "delete_cmd_postfix": ") ",
     "delete_cmd_prefix": "rm(",
     "library": "var_list.r",
     "varRefreshCmd": "cat(var_dic_list()) "
    }
   },
   "types_to_exclude": [
    "module",
    "function",
    "builtin_function_or_method",
    "instance",
    "_Feature"
   ],
   "window_display": false
  }
 },
 "nbformat": 4,
 "nbformat_minor": 5
}
